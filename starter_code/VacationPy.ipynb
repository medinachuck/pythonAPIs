{
 "cells": [
  {
   "cell_type": "markdown",
   "metadata": {},
   "source": [
    "# VacationPy\n",
    "----\n",
    "\n",
    "#### Note\n",
    "* Keep an eye on your API usage. Use https://developers.google.com/maps/reporting/gmp-reporting as reference for how to monitor your usage and billing.\n",
    "\n",
    "* Instructions have been included for each segment. You do not have to follow them exactly, but they are included to help you think through the steps."
   ]
  },
  {
   "cell_type": "code",
   "execution_count": 1,
   "metadata": {},
   "outputs": [],
   "source": [
    "# Dependencies and Setup\n",
    "import matplotlib.pyplot as plt\n",
    "import pandas as pd\n",
    "import numpy as np\n",
    "import requests\n",
    "import gmaps\n",
    "import os\n",
    "\n",
    "# Import API key\n",
    "from api_keys import g_key"
   ]
  },
  {
   "cell_type": "markdown",
   "metadata": {},
   "source": [
    "### Store Part I results into DataFrame\n",
    "* Load the csv exported in Part I to a DataFrame"
   ]
  },
  {
   "cell_type": "code",
   "execution_count": 3,
   "metadata": {
    "scrolled": true
   },
   "outputs": [
    {
     "data": {
      "text/html": [
       "<div>\n",
       "<style scoped>\n",
       "    .dataframe tbody tr th:only-of-type {\n",
       "        vertical-align: middle;\n",
       "    }\n",
       "\n",
       "    .dataframe tbody tr th {\n",
       "        vertical-align: top;\n",
       "    }\n",
       "\n",
       "    .dataframe thead th {\n",
       "        text-align: right;\n",
       "    }\n",
       "</style>\n",
       "<table border=\"1\" class=\"dataframe\">\n",
       "  <thead>\n",
       "    <tr style=\"text-align: right;\">\n",
       "      <th></th>\n",
       "      <th>City</th>\n",
       "      <th>Lat</th>\n",
       "      <th>Lng</th>\n",
       "      <th>Max Temp</th>\n",
       "      <th>Humidity</th>\n",
       "      <th>Cloudiness</th>\n",
       "      <th>Windspeed</th>\n",
       "      <th>Country</th>\n",
       "      <th>Date</th>\n",
       "    </tr>\n",
       "  </thead>\n",
       "  <tbody>\n",
       "    <tr>\n",
       "      <th>0</th>\n",
       "      <td>bonthe</td>\n",
       "      <td>7.53</td>\n",
       "      <td>-12.51</td>\n",
       "      <td>81.27</td>\n",
       "      <td>78</td>\n",
       "      <td>70</td>\n",
       "      <td>7.09</td>\n",
       "      <td>SL</td>\n",
       "      <td>1603475575</td>\n",
       "    </tr>\n",
       "    <tr>\n",
       "      <th>1</th>\n",
       "      <td>lata</td>\n",
       "      <td>40.16</td>\n",
       "      <td>-8.33</td>\n",
       "      <td>63.00</td>\n",
       "      <td>68</td>\n",
       "      <td>41</td>\n",
       "      <td>4.00</td>\n",
       "      <td>PT</td>\n",
       "      <td>1603475575</td>\n",
       "    </tr>\n",
       "    <tr>\n",
       "      <th>2</th>\n",
       "      <td>beyneu</td>\n",
       "      <td>45.32</td>\n",
       "      <td>55.20</td>\n",
       "      <td>40.82</td>\n",
       "      <td>65</td>\n",
       "      <td>3</td>\n",
       "      <td>9.95</td>\n",
       "      <td>KZ</td>\n",
       "      <td>1603475575</td>\n",
       "    </tr>\n",
       "    <tr>\n",
       "      <th>3</th>\n",
       "      <td>roros</td>\n",
       "      <td>62.57</td>\n",
       "      <td>11.38</td>\n",
       "      <td>17.60</td>\n",
       "      <td>92</td>\n",
       "      <td>0</td>\n",
       "      <td>1.12</td>\n",
       "      <td>NO</td>\n",
       "      <td>1603475575</td>\n",
       "    </tr>\n",
       "    <tr>\n",
       "      <th>4</th>\n",
       "      <td>buritizeiro</td>\n",
       "      <td>-17.35</td>\n",
       "      <td>-44.96</td>\n",
       "      <td>74.73</td>\n",
       "      <td>80</td>\n",
       "      <td>89</td>\n",
       "      <td>4.70</td>\n",
       "      <td>BR</td>\n",
       "      <td>1603475576</td>\n",
       "    </tr>\n",
       "    <tr>\n",
       "      <th>...</th>\n",
       "      <td>...</td>\n",
       "      <td>...</td>\n",
       "      <td>...</td>\n",
       "      <td>...</td>\n",
       "      <td>...</td>\n",
       "      <td>...</td>\n",
       "      <td>...</td>\n",
       "      <td>...</td>\n",
       "      <td>...</td>\n",
       "    </tr>\n",
       "    <tr>\n",
       "      <th>543</th>\n",
       "      <td>provideniya</td>\n",
       "      <td>64.38</td>\n",
       "      <td>-173.30</td>\n",
       "      <td>33.30</td>\n",
       "      <td>92</td>\n",
       "      <td>100</td>\n",
       "      <td>13.44</td>\n",
       "      <td>RU</td>\n",
       "      <td>1603475704</td>\n",
       "    </tr>\n",
       "    <tr>\n",
       "      <th>544</th>\n",
       "      <td>rodrigues alves</td>\n",
       "      <td>-7.74</td>\n",
       "      <td>-72.65</td>\n",
       "      <td>97.83</td>\n",
       "      <td>35</td>\n",
       "      <td>88</td>\n",
       "      <td>3.42</td>\n",
       "      <td>BR</td>\n",
       "      <td>1603475704</td>\n",
       "    </tr>\n",
       "    <tr>\n",
       "      <th>545</th>\n",
       "      <td>ihosy</td>\n",
       "      <td>-22.40</td>\n",
       "      <td>46.12</td>\n",
       "      <td>66.47</td>\n",
       "      <td>78</td>\n",
       "      <td>12</td>\n",
       "      <td>11.48</td>\n",
       "      <td>MG</td>\n",
       "      <td>1603475705</td>\n",
       "    </tr>\n",
       "    <tr>\n",
       "      <th>546</th>\n",
       "      <td>marawi</td>\n",
       "      <td>8.00</td>\n",
       "      <td>124.29</td>\n",
       "      <td>73.99</td>\n",
       "      <td>93</td>\n",
       "      <td>91</td>\n",
       "      <td>5.01</td>\n",
       "      <td>PH</td>\n",
       "      <td>1603475705</td>\n",
       "    </tr>\n",
       "    <tr>\n",
       "      <th>547</th>\n",
       "      <td>hukuntsi</td>\n",
       "      <td>-24.00</td>\n",
       "      <td>21.75</td>\n",
       "      <td>83.68</td>\n",
       "      <td>15</td>\n",
       "      <td>0</td>\n",
       "      <td>8.46</td>\n",
       "      <td>BW</td>\n",
       "      <td>1603475705</td>\n",
       "    </tr>\n",
       "  </tbody>\n",
       "</table>\n",
       "<p>548 rows × 9 columns</p>\n",
       "</div>"
      ],
      "text/plain": [
       "                City    Lat     Lng  Max Temp  Humidity  Cloudiness  \\\n",
       "0             bonthe   7.53  -12.51     81.27        78          70   \n",
       "1               lata  40.16   -8.33     63.00        68          41   \n",
       "2             beyneu  45.32   55.20     40.82        65           3   \n",
       "3              roros  62.57   11.38     17.60        92           0   \n",
       "4        buritizeiro -17.35  -44.96     74.73        80          89   \n",
       "..               ...    ...     ...       ...       ...         ...   \n",
       "543      provideniya  64.38 -173.30     33.30        92         100   \n",
       "544  rodrigues alves  -7.74  -72.65     97.83        35          88   \n",
       "545            ihosy -22.40   46.12     66.47        78          12   \n",
       "546           marawi   8.00  124.29     73.99        93          91   \n",
       "547         hukuntsi -24.00   21.75     83.68        15           0   \n",
       "\n",
       "     Windspeed Country        Date  \n",
       "0         7.09      SL  1603475575  \n",
       "1         4.00      PT  1603475575  \n",
       "2         9.95      KZ  1603475575  \n",
       "3         1.12      NO  1603475575  \n",
       "4         4.70      BR  1603475576  \n",
       "..         ...     ...         ...  \n",
       "543      13.44      RU  1603475704  \n",
       "544       3.42      BR  1603475704  \n",
       "545      11.48      MG  1603475705  \n",
       "546       5.01      PH  1603475705  \n",
       "547       8.46      BW  1603475705  \n",
       "\n",
       "[548 rows x 9 columns]"
      ]
     },
     "execution_count": 3,
     "metadata": {},
     "output_type": "execute_result"
    }
   ],
   "source": [
    "weather_data = pd.read_csv('../output_data/city_data.csv')\n",
    "weather_data"
   ]
  },
  {
   "cell_type": "code",
   "execution_count": 4,
   "metadata": {},
   "outputs": [
    {
     "data": {
      "text/plain": [
       "numpy.int64"
      ]
     },
     "execution_count": 4,
     "metadata": {},
     "output_type": "execute_result"
    }
   ],
   "source": [
    "type(weather_data['Cloudiness'][1])"
   ]
  },
  {
   "cell_type": "markdown",
   "metadata": {},
   "source": [
    "### Humidity Heatmap\n",
    "* Configure gmaps.\n",
    "* Use the Lat and Lng as locations and Humidity as the weight.\n",
    "* Add Heatmap layer to map."
   ]
  },
  {
   "cell_type": "code",
   "execution_count": 5,
   "metadata": {},
   "outputs": [],
   "source": [
    "#configure gmaps\n",
    "gmaps.configure(api_key=g_key)"
   ]
  },
  {
   "cell_type": "code",
   "execution_count": 6,
   "metadata": {
    "scrolled": true
   },
   "outputs": [
    {
     "data": {
      "application/vnd.jupyter.widget-view+json": {
       "model_id": "d5e4dc1da02f4d6bbb2bf094b58ad799",
       "version_major": 2,
       "version_minor": 0
      },
      "text/plain": [
       "Figure(layout=FigureLayout(height='420px'))"
      ]
     },
     "metadata": {},
     "output_type": "display_data"
    }
   ],
   "source": [
    "#Create Heatmap of Humidity\n",
    "locations = weather_data[['Lat', 'Lng']]\n",
    "weights = weather_data['Humidity']\n",
    "fig = gmaps.figure()\n",
    "fig.add_layer(gmaps.heatmap_layer(locations, weights=weights))\n",
    "fig"
   ]
  },
  {
   "cell_type": "markdown",
   "metadata": {},
   "source": [
    "### Create new DataFrame fitting weather criteria\n",
    "* Narrow down the cities to fit weather conditions.\n",
    "    * My criteria: between 72 and 76 degrees, non cloudy, windspeed less than 10 mph, humidity less than 70%\n",
    "* Drop any rows will null values."
   ]
  },
  {
   "cell_type": "code",
   "execution_count": 21,
   "metadata": {},
   "outputs": [
    {
     "name": "stderr",
     "output_type": "stream",
     "text": [
      "<ipython-input-21-3001b548ddb2>:5: SettingWithCopyWarning: \n",
      "A value is trying to be set on a copy of a slice from a DataFrame.\n",
      "Try using .loc[row_indexer,col_indexer] = value instead\n",
      "\n",
      "See the caveats in the documentation: https://pandas.pydata.org/pandas-docs/stable/user_guide/indexing.html#returning-a-view-versus-a-copy\n",
      "  ideal_cities['coordinates'] = ideal_cities['Lat'].astype(str).str.cat(ideal_cities['Lng'].astype(str), sep =\", \")\n"
     ]
    },
    {
     "data": {
      "text/html": [
       "<div>\n",
       "<style scoped>\n",
       "    .dataframe tbody tr th:only-of-type {\n",
       "        vertical-align: middle;\n",
       "    }\n",
       "\n",
       "    .dataframe tbody tr th {\n",
       "        vertical-align: top;\n",
       "    }\n",
       "\n",
       "    .dataframe thead th {\n",
       "        text-align: right;\n",
       "    }\n",
       "</style>\n",
       "<table border=\"1\" class=\"dataframe\">\n",
       "  <thead>\n",
       "    <tr style=\"text-align: right;\">\n",
       "      <th></th>\n",
       "      <th>City</th>\n",
       "      <th>Lat</th>\n",
       "      <th>Lng</th>\n",
       "      <th>Max Temp</th>\n",
       "      <th>Humidity</th>\n",
       "      <th>Cloudiness</th>\n",
       "      <th>Windspeed</th>\n",
       "      <th>Country</th>\n",
       "      <th>Date</th>\n",
       "      <th>coordinates</th>\n",
       "    </tr>\n",
       "  </thead>\n",
       "  <tbody>\n",
       "    <tr>\n",
       "      <th>201</th>\n",
       "      <td>khed brahma</td>\n",
       "      <td>24.03</td>\n",
       "      <td>73.05</td>\n",
       "      <td>74.88</td>\n",
       "      <td>30</td>\n",
       "      <td>0</td>\n",
       "      <td>1.72</td>\n",
       "      <td>IN</td>\n",
       "      <td>1603475623</td>\n",
       "      <td>24.03, 73.05</td>\n",
       "    </tr>\n",
       "    <tr>\n",
       "      <th>293</th>\n",
       "      <td>moindou</td>\n",
       "      <td>-21.69</td>\n",
       "      <td>165.68</td>\n",
       "      <td>75.20</td>\n",
       "      <td>64</td>\n",
       "      <td>0</td>\n",
       "      <td>5.82</td>\n",
       "      <td>NC</td>\n",
       "      <td>1603475646</td>\n",
       "      <td>-21.69, 165.68</td>\n",
       "    </tr>\n",
       "    <tr>\n",
       "      <th>296</th>\n",
       "      <td>general roca</td>\n",
       "      <td>-39.03</td>\n",
       "      <td>-67.58</td>\n",
       "      <td>75.20</td>\n",
       "      <td>53</td>\n",
       "      <td>0</td>\n",
       "      <td>5.82</td>\n",
       "      <td>AR</td>\n",
       "      <td>1603475647</td>\n",
       "      <td>-39.03, -67.58</td>\n",
       "    </tr>\n",
       "    <tr>\n",
       "      <th>297</th>\n",
       "      <td>abu samrah</td>\n",
       "      <td>35.30</td>\n",
       "      <td>37.18</td>\n",
       "      <td>72.05</td>\n",
       "      <td>22</td>\n",
       "      <td>0</td>\n",
       "      <td>6.96</td>\n",
       "      <td>SY</td>\n",
       "      <td>1603475647</td>\n",
       "      <td>35.3, 37.18</td>\n",
       "    </tr>\n",
       "    <tr>\n",
       "      <th>387</th>\n",
       "      <td>sur</td>\n",
       "      <td>22.57</td>\n",
       "      <td>59.53</td>\n",
       "      <td>73.96</td>\n",
       "      <td>61</td>\n",
       "      <td>0</td>\n",
       "      <td>4.54</td>\n",
       "      <td>OM</td>\n",
       "      <td>1603475667</td>\n",
       "      <td>22.57, 59.53</td>\n",
       "    </tr>\n",
       "  </tbody>\n",
       "</table>\n",
       "</div>"
      ],
      "text/plain": [
       "             City    Lat     Lng  Max Temp  Humidity  Cloudiness  Windspeed  \\\n",
       "201   khed brahma  24.03   73.05     74.88        30           0       1.72   \n",
       "293       moindou -21.69  165.68     75.20        64           0       5.82   \n",
       "296  general roca -39.03  -67.58     75.20        53           0       5.82   \n",
       "297    abu samrah  35.30   37.18     72.05        22           0       6.96   \n",
       "387           sur  22.57   59.53     73.96        61           0       4.54   \n",
       "\n",
       "    Country        Date     coordinates  \n",
       "201      IN  1603475623    24.03, 73.05  \n",
       "293      NC  1603475646  -21.69, 165.68  \n",
       "296      AR  1603475647  -39.03, -67.58  \n",
       "297      SY  1603475647     35.3, 37.18  \n",
       "387      OM  1603475667    22.57, 59.53  "
      ]
     },
     "execution_count": 21,
     "metadata": {},
     "output_type": "execute_result"
    }
   ],
   "source": [
    "ideal_cities = weather_data[(weather_data['Max Temp'] >=72) & (weather_data['Max Temp'] <=76 ) & (weather_data['Cloudiness'] <= 0)\n",
    "                            & (weather_data['Windspeed']<10) & (weather_data['Humidity']<70)]\n",
    "\n",
    "#take the latitude and longitude and concatenate them into coordinates for google places API search \n",
    "ideal_cities['coordinates'] = ideal_cities['Lat'].astype(str).str.cat(ideal_cities['Lng'].astype(str), sep =\", \")\n",
    "ideal_cities"
   ]
  },
  {
   "cell_type": "markdown",
   "metadata": {},
   "source": [
    "### Hotel Map\n",
    "* Store into variable named `hotel_df`.\n",
    "* Add a \"Hotel Name\" column to the DataFrame.\n",
    "* Set parameters to search for hotels with 5000 meters.\n",
    "* Hit the Google Places API for each city's coordinates.\n",
    "* Store the first Hotel result into the DataFrame.\n",
    "* Plot markers on top of the heatmap."
   ]
  },
  {
   "cell_type": "code",
   "execution_count": 35,
   "metadata": {},
   "outputs": [],
   "source": [
    "hotel_df = pd.DataFrame()\n",
    "hotel_df['Hotel Name'] = \"\"\n",
    "hotel_df['City'] = \"\"\n",
    "hotel_df['Country'] = \"\"\n",
    "hotel_df['lat'] = \"\"\n",
    "hotel_df['lng'] = \"\""
   ]
  },
  {
   "cell_type": "code",
   "execution_count": 14,
   "metadata": {},
   "outputs": [],
   "source": [
    "# test hit the google places API to get the first result and get the information into the database \n",
    "base_url = \"https://maps.googleapis.com/maps/api/place/nearbysearch/json\"\n",
    "params = {\n",
    "    \"location\": \"-21.69, 165.68\",  # Khed Brahma\n",
    "    \"radius\": \"5000\",\n",
    "    \"type\": \"lodging\",\n",
    "    \"key\": g_key,\n",
    "    #\"keyword\": \"hotel\",\n",
    "}\n",
    "    \n",
    "response = requests.get(base_url, params=params).json() \n"
   ]
  },
  {
   "cell_type": "code",
   "execution_count": 15,
   "metadata": {},
   "outputs": [
    {
     "data": {
      "text/plain": [
       "'Gite de la RYAWA'"
      ]
     },
     "execution_count": 15,
     "metadata": {},
     "output_type": "execute_result"
    }
   ],
   "source": [
    "response['results'][0]['name']"
   ]
  },
  {
   "cell_type": "code",
   "execution_count": 39,
   "metadata": {
    "scrolled": true
   },
   "outputs": [
    {
     "data": {
      "text/plain": [
       "22.5664354"
      ]
     },
     "execution_count": 39,
     "metadata": {},
     "output_type": "execute_result"
    }
   ],
   "source": [
    "response['results'][0]['geometry']['location']['lat']"
   ]
  },
  {
   "cell_type": "code",
   "execution_count": 18,
   "metadata": {},
   "outputs": [
    {
     "data": {
      "text/plain": [
       "{'html_attributions': [],\n",
       " 'results': [{'business_status': 'OPERATIONAL',\n",
       "   'geometry': {'location': {'lat': -21.6713994, 'lng': 165.6791161},\n",
       "    'viewport': {'northeast': {'lat': -21.6701399697085,\n",
       "      'lng': 165.6805614802915},\n",
       "     'southwest': {'lat': -21.6728379302915, 'lng': 165.6778635197085}}},\n",
       "   'icon': 'https://maps.gstatic.com/mapfiles/place_api/icons/v1/png_71/lodging-71.png',\n",
       "   'name': 'Gite de la RYAWA',\n",
       "   'photos': [{'height': 1134,\n",
       "     'html_attributions': ['<a href=\"https://maps.google.com/maps/contrib/106270599816920865265\">boatpasstation NC</a>'],\n",
       "     'photo_reference': 'ATtYBwInjcQ_piIKW1RdN7hxXX9Vmv565omUH4gVXKLS7jTj4vguBo358cVIxAO-Omfq_m8_1G5pO_n6cMjWE0SCtanQMc3_OgYxMDzxDLZtenK5TmUYEFP1PXQBaIhe_HF_TATu27f7xXwqcZcUixc9RI1c4ztuxhn8oj_rUh7hF7BYTC-5',\n",
       "     'width': 850}],\n",
       "   'place_id': 'ChIJzcjsq1KfnW4Rl2CwhQRyxSE',\n",
       "   'plus_code': {'compound_code': '8MHH+CJ Mouidou, New Caledonia',\n",
       "    'global_code': '5VC78MHH+CJ'},\n",
       "   'rating': 5,\n",
       "   'reference': 'ChIJzcjsq1KfnW4Rl2CwhQRyxSE',\n",
       "   'scope': 'GOOGLE',\n",
       "   'types': ['lodging', 'point_of_interest', 'establishment'],\n",
       "   'user_ratings_total': 2,\n",
       "   'vicinity': 'New Caledonia'},\n",
       "  {'business_status': 'OPERATIONAL',\n",
       "   'geometry': {'location': {'lat': -21.7003693, 'lng': 165.6463298},\n",
       "    'viewport': {'northeast': {'lat': -21.6993348197085,\n",
       "      'lng': 165.6475343802915},\n",
       "     'southwest': {'lat': -21.7020327802915, 'lng': 165.6448364197085}}},\n",
       "   'icon': 'https://maps.gstatic.com/mapfiles/place_api/icons/v1/png_71/lodging-71.png',\n",
       "   'name': 'Gîte Les Nautilus',\n",
       "   'opening_hours': {'open_now': True},\n",
       "   'photos': [{'height': 768,\n",
       "     'html_attributions': ['<a href=\"https://maps.google.com/maps/contrib/116505730978450747467\">Rich R</a>'],\n",
       "     'photo_reference': 'ATtYBwJrE09ivFr7vuUnTftufME60czXS590byawcRoJOuph9oP2cC-wmD4igHcKUO3me2iU9DIsRvLfaOht6HqMygK0i7RYSkWx1IWcXcyTn99-AK8zbZTc8kcZS6ewDb-PfG57P7odbfA5psCNKBoOsVvcZyJOy9UKMR7peA0tGOPq08Lf',\n",
       "     'width': 1024}],\n",
       "   'place_id': 'ChIJj0KWsJ-enW4RHSKzCK-fnzo',\n",
       "   'plus_code': {'compound_code': '7JXW+VG Mouidou, New Caledonia',\n",
       "    'global_code': '5VC77JXW+VG'},\n",
       "   'rating': 2.9,\n",
       "   'reference': 'ChIJj0KWsJ-enW4RHSKzCK-fnzo',\n",
       "   'scope': 'GOOGLE',\n",
       "   'types': ['lodging', 'point_of_interest', 'establishment'],\n",
       "   'user_ratings_total': 10,\n",
       "   'vicinity': 'RT1, Sortie Nord, Moindou'}],\n",
       " 'status': 'OK'}"
      ]
     },
     "execution_count": 18,
     "metadata": {},
     "output_type": "execute_result"
    }
   ],
   "source": [
    "response[''] "
   ]
  },
  {
   "cell_type": "code",
   "execution_count": 40,
   "metadata": {},
   "outputs": [
    {
     "name": "stdout",
     "output_type": "stream",
     "text": [
      "Closest hotel to khed brahma is UMIYA NASTA HOUSE.\n",
      "------------\n",
      "Closest hotel to moindou is Gite de la RYAWA.\n",
      "------------\n",
      "Closest hotel to general roca is Hotel El Recreo.\n",
      "------------\n",
      "Missing field/result... skipping.\n",
      "------------\n",
      "Closest hotel to sur is Sur Plaza Hotel.\n",
      "------------\n"
     ]
    }
   ],
   "source": [
    "base_url = \"https://maps.googleapis.com/maps/api/place/nearbysearch/json\"\n",
    "params = {\n",
    "    \"location\": \"\",  # philadelphia coords,\n",
    "    \"radius\": \"5000\",\n",
    "    \"type\": \"lodging\",\n",
    "    \"key\": g_key,\n",
    "#     \"keyword\": \"Hotel\",\n",
    "}\n",
    "# use iterrows to iterate through pandas dataframe\n",
    "for index, row in ideal_cities.iterrows():\n",
    "\n",
    "    # get coordinates from df\n",
    "    coordinates = row['coordinates']\n",
    "\n",
    "    # add coordinates to params dict\n",
    "    params[\"location\"] = coordinates\n",
    "\n",
    "    # assemble url and make API request\n",
    "    response = requests.get(base_url, params=params).json()\n",
    "    \n",
    "    # extract results\n",
    "    results = response['results']\n",
    "    \n",
    "    try:\n",
    "        print(f\"Closest hotel to {row['City']} is {results[0]['name']}.\")\n",
    "        \n",
    "        hotel_df.loc[index, 'Hotel Name'] = results[0]['name']\n",
    "        hotel_df.loc[index, 'City'] = row['City']\n",
    "        hotel_df.loc[index, 'Country'] = row['Country']\n",
    "        hotel_df.loc[index, 'lat'] = results[0]['geometry']['location']['lat']\n",
    "        hotel_df.loc[index, 'lng'] = results[0]['geometry']['location']['lng']\n",
    "        \n",
    "    except (KeyError, IndexError):\n",
    "        print(\"Missing field/result... skipping.\")\n",
    "        \n",
    "    print(\"------------\")"
   ]
  },
  {
   "cell_type": "code",
   "execution_count": 41,
   "metadata": {},
   "outputs": [
    {
     "data": {
      "text/html": [
       "<div>\n",
       "<style scoped>\n",
       "    .dataframe tbody tr th:only-of-type {\n",
       "        vertical-align: middle;\n",
       "    }\n",
       "\n",
       "    .dataframe tbody tr th {\n",
       "        vertical-align: top;\n",
       "    }\n",
       "\n",
       "    .dataframe thead th {\n",
       "        text-align: right;\n",
       "    }\n",
       "</style>\n",
       "<table border=\"1\" class=\"dataframe\">\n",
       "  <thead>\n",
       "    <tr style=\"text-align: right;\">\n",
       "      <th></th>\n",
       "      <th>Hotel Name</th>\n",
       "      <th>City</th>\n",
       "      <th>Country</th>\n",
       "      <th>lat</th>\n",
       "      <th>lng</th>\n",
       "    </tr>\n",
       "  </thead>\n",
       "  <tbody>\n",
       "    <tr>\n",
       "      <th>201</th>\n",
       "      <td>UMIYA NASTA HOUSE</td>\n",
       "      <td>khed brahma</td>\n",
       "      <td>IN</td>\n",
       "      <td>24.0311</td>\n",
       "      <td>73.0483</td>\n",
       "    </tr>\n",
       "    <tr>\n",
       "      <th>293</th>\n",
       "      <td>Gite de la RYAWA</td>\n",
       "      <td>moindou</td>\n",
       "      <td>NC</td>\n",
       "      <td>-21.6714</td>\n",
       "      <td>165.679</td>\n",
       "    </tr>\n",
       "    <tr>\n",
       "      <th>296</th>\n",
       "      <td>Hotel El Recreo</td>\n",
       "      <td>general roca</td>\n",
       "      <td>AR</td>\n",
       "      <td>-39.04</td>\n",
       "      <td>-67.6124</td>\n",
       "    </tr>\n",
       "    <tr>\n",
       "      <th>387</th>\n",
       "      <td>Sur Plaza Hotel</td>\n",
       "      <td>sur</td>\n",
       "      <td>OM</td>\n",
       "      <td>22.5664</td>\n",
       "      <td>59.4959</td>\n",
       "    </tr>\n",
       "  </tbody>\n",
       "</table>\n",
       "</div>"
      ],
      "text/plain": [
       "            Hotel Name          City Country      lat      lng\n",
       "201  UMIYA NASTA HOUSE   khed brahma      IN  24.0311  73.0483\n",
       "293   Gite de la RYAWA       moindou      NC -21.6714  165.679\n",
       "296    Hotel El Recreo  general roca      AR   -39.04 -67.6124\n",
       "387    Sur Plaza Hotel           sur      OM  22.5664  59.4959"
      ]
     },
     "execution_count": 41,
     "metadata": {},
     "output_type": "execute_result"
    }
   ],
   "source": [
    "#display the updated data frame to ensure we got the information\n",
    "hotel_df"
   ]
  },
  {
   "cell_type": "code",
   "execution_count": 51,
   "metadata": {},
   "outputs": [],
   "source": [
    "# NOTE: Do not change any of the code in this cell\n",
    "\n",
    "# Using the template add the hotel marks to the heatmap\n",
    "info_box_template = \"\"\"\n",
    "<dl>\n",
    "<dt>Name</dt><dd>{Hotel}</dd>\n",
    "<dt>City</dt><dd>{City}</dd>\n",
    "<dt>Country</dt><dd>{Country}</dd>\n",
    "</dl>\n",
    "\"\"\" \n",
    "# Store the DataFrame Row\n",
    "# NOTE: be sure to update with your DataFrame name\n",
    "hotel_info = [info_box_template.format(Hotel=row['Hotel Name'], City=row['City'], Country=row['Country']) for index, row in hotel_df.iterrows()]\n",
    "locations = hotel_df[[\"lat\", \"lng\"]]"
   ]
  },
  {
   "cell_type": "code",
   "execution_count": 52,
   "metadata": {},
   "outputs": [
    {
     "data": {
      "text/html": [
       "<div>\n",
       "<style scoped>\n",
       "    .dataframe tbody tr th:only-of-type {\n",
       "        vertical-align: middle;\n",
       "    }\n",
       "\n",
       "    .dataframe tbody tr th {\n",
       "        vertical-align: top;\n",
       "    }\n",
       "\n",
       "    .dataframe thead th {\n",
       "        text-align: right;\n",
       "    }\n",
       "</style>\n",
       "<table border=\"1\" class=\"dataframe\">\n",
       "  <thead>\n",
       "    <tr style=\"text-align: right;\">\n",
       "      <th></th>\n",
       "      <th>Hotel Name</th>\n",
       "      <th>City</th>\n",
       "      <th>Country</th>\n",
       "      <th>lat</th>\n",
       "      <th>lng</th>\n",
       "      <th>locations</th>\n",
       "    </tr>\n",
       "  </thead>\n",
       "  <tbody>\n",
       "    <tr>\n",
       "      <th>201</th>\n",
       "      <td>UMIYA NASTA HOUSE</td>\n",
       "      <td>khed brahma</td>\n",
       "      <td>IN</td>\n",
       "      <td>24.0311</td>\n",
       "      <td>73.0483</td>\n",
       "      <td>(24.0310886, 73.0483465)</td>\n",
       "    </tr>\n",
       "    <tr>\n",
       "      <th>293</th>\n",
       "      <td>Gite de la RYAWA</td>\n",
       "      <td>moindou</td>\n",
       "      <td>NC</td>\n",
       "      <td>-21.6714</td>\n",
       "      <td>165.679</td>\n",
       "      <td>(-21.6713994, 165.6791161)</td>\n",
       "    </tr>\n",
       "    <tr>\n",
       "      <th>296</th>\n",
       "      <td>Hotel El Recreo</td>\n",
       "      <td>general roca</td>\n",
       "      <td>AR</td>\n",
       "      <td>-39.04</td>\n",
       "      <td>-67.6124</td>\n",
       "      <td>(-39.04000319999999, -67.6124162)</td>\n",
       "    </tr>\n",
       "    <tr>\n",
       "      <th>387</th>\n",
       "      <td>Sur Plaza Hotel</td>\n",
       "      <td>sur</td>\n",
       "      <td>OM</td>\n",
       "      <td>22.5664</td>\n",
       "      <td>59.4959</td>\n",
       "      <td>(22.5664354, 59.4958585)</td>\n",
       "    </tr>\n",
       "  </tbody>\n",
       "</table>\n",
       "</div>"
      ],
      "text/plain": [
       "            Hotel Name          City Country      lat      lng  \\\n",
       "201  UMIYA NASTA HOUSE   khed brahma      IN  24.0311  73.0483   \n",
       "293   Gite de la RYAWA       moindou      NC -21.6714  165.679   \n",
       "296    Hotel El Recreo  general roca      AR   -39.04 -67.6124   \n",
       "387    Sur Plaza Hotel           sur      OM  22.5664  59.4959   \n",
       "\n",
       "                             locations  \n",
       "201           (24.0310886, 73.0483465)  \n",
       "293         (-21.6713994, 165.6791161)  \n",
       "296  (-39.04000319999999, -67.6124162)  \n",
       "387           (22.5664354, 59.4958585)  "
      ]
     },
     "execution_count": 52,
     "metadata": {},
     "output_type": "execute_result"
    }
   ],
   "source": [
    "hotel_df['locations'] = hotel_df.apply(lambda x: (x['lat'], x['lng']), axis = 1)\n",
    "hotel_df"
   ]
  },
  {
   "cell_type": "code",
   "execution_count": 54,
   "metadata": {},
   "outputs": [
    {
     "data": {
      "application/vnd.jupyter.widget-view+json": {
       "model_id": "d5e4dc1da02f4d6bbb2bf094b58ad799",
       "version_major": 2,
       "version_minor": 0
      },
      "text/plain": [
       "Figure(layout=FigureLayout(height='420px'))"
      ]
     },
     "metadata": {},
     "output_type": "display_data"
    }
   ],
   "source": [
    "# Add marker layer ontop of heat map\n",
    "markers = gmaps.marker_layer(marker_locations, info_box_content=hotel_info)\n",
    "fig.add_layer(markers)\n",
    "# Display figure\n",
    "fig"
   ]
  },
  {
   "cell_type": "code",
   "execution_count": null,
   "metadata": {},
   "outputs": [],
   "source": []
  }
 ],
 "metadata": {
  "kernelspec": {
   "display_name": "Python 3",
   "language": "python",
   "name": "python3"
  },
  "language_info": {
   "codemirror_mode": {
    "name": "ipython",
    "version": 3
   },
   "file_extension": ".py",
   "mimetype": "text/x-python",
   "name": "python",
   "nbconvert_exporter": "python",
   "pygments_lexer": "ipython3",
   "version": "3.8.3"
  },
  "latex_envs": {
   "LaTeX_envs_menu_present": true,
   "autoclose": false,
   "autocomplete": true,
   "bibliofile": "biblio.bib",
   "cite_by": "apalike",
   "current_citInitial": 1,
   "eqLabelWithNumbers": true,
   "eqNumInitial": 1,
   "hotkeys": {
    "equation": "Ctrl-E",
    "itemize": "Ctrl-I"
   },
   "labels_anchors": false,
   "latex_user_defs": false,
   "report_style_numbering": false,
   "user_envs_cfg": false
  }
 },
 "nbformat": 4,
 "nbformat_minor": 4
}
